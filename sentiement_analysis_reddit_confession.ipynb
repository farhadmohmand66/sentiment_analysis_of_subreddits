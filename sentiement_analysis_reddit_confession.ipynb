{
  "nbformat": 4,
  "nbformat_minor": 0,
  "metadata": {
    "colab": {
      "provenance": [],
      "authorship_tag": "ABX9TyP5BUkC8FXprMIN9i5pSsYx",
      "include_colab_link": true
    },
    "kernelspec": {
      "name": "python3",
      "display_name": "Python 3"
    },
    "language_info": {
      "name": "python"
    },
    "widgets": {
      "application/vnd.jupyter.widget-state+json": {
        "d332d6c4a6a144ee934cd21d38491612": {
          "model_module": "@jupyter-widgets/controls",
          "model_name": "HBoxModel",
          "model_module_version": "1.5.0",
          "state": {
            "_dom_classes": [],
            "_model_module": "@jupyter-widgets/controls",
            "_model_module_version": "1.5.0",
            "_model_name": "HBoxModel",
            "_view_count": null,
            "_view_module": "@jupyter-widgets/controls",
            "_view_module_version": "1.5.0",
            "_view_name": "HBoxView",
            "box_style": "",
            "children": [
              "IPY_MODEL_06edda350d39409699a04fa4169eee90",
              "IPY_MODEL_df9ee2f8f6de4c39898d8d73a097a317",
              "IPY_MODEL_afdb259fb93442c0a5bc6d64142f24b4"
            ],
            "layout": "IPY_MODEL_ac2869c71ee7456a9865605fe6d27e0b"
          }
        },
        "06edda350d39409699a04fa4169eee90": {
          "model_module": "@jupyter-widgets/controls",
          "model_name": "HTMLModel",
          "model_module_version": "1.5.0",
          "state": {
            "_dom_classes": [],
            "_model_module": "@jupyter-widgets/controls",
            "_model_module_version": "1.5.0",
            "_model_name": "HTMLModel",
            "_view_count": null,
            "_view_module": "@jupyter-widgets/controls",
            "_view_module_version": "1.5.0",
            "_view_name": "HTMLView",
            "description": "",
            "description_tooltip": null,
            "layout": "IPY_MODEL_d41b5dffaa4442bf90a112539475ba1c",
            "placeholder": "​",
            "style": "IPY_MODEL_18171b9c06d248968c1a29835b263e0b",
            "value": "config.json: 100%"
          }
        },
        "df9ee2f8f6de4c39898d8d73a097a317": {
          "model_module": "@jupyter-widgets/controls",
          "model_name": "FloatProgressModel",
          "model_module_version": "1.5.0",
          "state": {
            "_dom_classes": [],
            "_model_module": "@jupyter-widgets/controls",
            "_model_module_version": "1.5.0",
            "_model_name": "FloatProgressModel",
            "_view_count": null,
            "_view_module": "@jupyter-widgets/controls",
            "_view_module_version": "1.5.0",
            "_view_name": "ProgressView",
            "bar_style": "success",
            "description": "",
            "description_tooltip": null,
            "layout": "IPY_MODEL_54137422adc64c7c8bf201a2eb10f418",
            "max": 629,
            "min": 0,
            "orientation": "horizontal",
            "style": "IPY_MODEL_8b29b26d39214c4698cb79b5e8eba05e",
            "value": 629
          }
        },
        "afdb259fb93442c0a5bc6d64142f24b4": {
          "model_module": "@jupyter-widgets/controls",
          "model_name": "HTMLModel",
          "model_module_version": "1.5.0",
          "state": {
            "_dom_classes": [],
            "_model_module": "@jupyter-widgets/controls",
            "_model_module_version": "1.5.0",
            "_model_name": "HTMLModel",
            "_view_count": null,
            "_view_module": "@jupyter-widgets/controls",
            "_view_module_version": "1.5.0",
            "_view_name": "HTMLView",
            "description": "",
            "description_tooltip": null,
            "layout": "IPY_MODEL_93f6bde751374e88871898ababa598f2",
            "placeholder": "​",
            "style": "IPY_MODEL_bfbe2478cf43429696cc30895bd0a405",
            "value": " 629/629 [00:00&lt;00:00, 32.3kB/s]"
          }
        },
        "ac2869c71ee7456a9865605fe6d27e0b": {
          "model_module": "@jupyter-widgets/base",
          "model_name": "LayoutModel",
          "model_module_version": "1.2.0",
          "state": {
            "_model_module": "@jupyter-widgets/base",
            "_model_module_version": "1.2.0",
            "_model_name": "LayoutModel",
            "_view_count": null,
            "_view_module": "@jupyter-widgets/base",
            "_view_module_version": "1.2.0",
            "_view_name": "LayoutView",
            "align_content": null,
            "align_items": null,
            "align_self": null,
            "border": null,
            "bottom": null,
            "display": null,
            "flex": null,
            "flex_flow": null,
            "grid_area": null,
            "grid_auto_columns": null,
            "grid_auto_flow": null,
            "grid_auto_rows": null,
            "grid_column": null,
            "grid_gap": null,
            "grid_row": null,
            "grid_template_areas": null,
            "grid_template_columns": null,
            "grid_template_rows": null,
            "height": null,
            "justify_content": null,
            "justify_items": null,
            "left": null,
            "margin": null,
            "max_height": null,
            "max_width": null,
            "min_height": null,
            "min_width": null,
            "object_fit": null,
            "object_position": null,
            "order": null,
            "overflow": null,
            "overflow_x": null,
            "overflow_y": null,
            "padding": null,
            "right": null,
            "top": null,
            "visibility": null,
            "width": null
          }
        },
        "d41b5dffaa4442bf90a112539475ba1c": {
          "model_module": "@jupyter-widgets/base",
          "model_name": "LayoutModel",
          "model_module_version": "1.2.0",
          "state": {
            "_model_module": "@jupyter-widgets/base",
            "_model_module_version": "1.2.0",
            "_model_name": "LayoutModel",
            "_view_count": null,
            "_view_module": "@jupyter-widgets/base",
            "_view_module_version": "1.2.0",
            "_view_name": "LayoutView",
            "align_content": null,
            "align_items": null,
            "align_self": null,
            "border": null,
            "bottom": null,
            "display": null,
            "flex": null,
            "flex_flow": null,
            "grid_area": null,
            "grid_auto_columns": null,
            "grid_auto_flow": null,
            "grid_auto_rows": null,
            "grid_column": null,
            "grid_gap": null,
            "grid_row": null,
            "grid_template_areas": null,
            "grid_template_columns": null,
            "grid_template_rows": null,
            "height": null,
            "justify_content": null,
            "justify_items": null,
            "left": null,
            "margin": null,
            "max_height": null,
            "max_width": null,
            "min_height": null,
            "min_width": null,
            "object_fit": null,
            "object_position": null,
            "order": null,
            "overflow": null,
            "overflow_x": null,
            "overflow_y": null,
            "padding": null,
            "right": null,
            "top": null,
            "visibility": null,
            "width": null
          }
        },
        "18171b9c06d248968c1a29835b263e0b": {
          "model_module": "@jupyter-widgets/controls",
          "model_name": "DescriptionStyleModel",
          "model_module_version": "1.5.0",
          "state": {
            "_model_module": "@jupyter-widgets/controls",
            "_model_module_version": "1.5.0",
            "_model_name": "DescriptionStyleModel",
            "_view_count": null,
            "_view_module": "@jupyter-widgets/base",
            "_view_module_version": "1.2.0",
            "_view_name": "StyleView",
            "description_width": ""
          }
        },
        "54137422adc64c7c8bf201a2eb10f418": {
          "model_module": "@jupyter-widgets/base",
          "model_name": "LayoutModel",
          "model_module_version": "1.2.0",
          "state": {
            "_model_module": "@jupyter-widgets/base",
            "_model_module_version": "1.2.0",
            "_model_name": "LayoutModel",
            "_view_count": null,
            "_view_module": "@jupyter-widgets/base",
            "_view_module_version": "1.2.0",
            "_view_name": "LayoutView",
            "align_content": null,
            "align_items": null,
            "align_self": null,
            "border": null,
            "bottom": null,
            "display": null,
            "flex": null,
            "flex_flow": null,
            "grid_area": null,
            "grid_auto_columns": null,
            "grid_auto_flow": null,
            "grid_auto_rows": null,
            "grid_column": null,
            "grid_gap": null,
            "grid_row": null,
            "grid_template_areas": null,
            "grid_template_columns": null,
            "grid_template_rows": null,
            "height": null,
            "justify_content": null,
            "justify_items": null,
            "left": null,
            "margin": null,
            "max_height": null,
            "max_width": null,
            "min_height": null,
            "min_width": null,
            "object_fit": null,
            "object_position": null,
            "order": null,
            "overflow": null,
            "overflow_x": null,
            "overflow_y": null,
            "padding": null,
            "right": null,
            "top": null,
            "visibility": null,
            "width": null
          }
        },
        "8b29b26d39214c4698cb79b5e8eba05e": {
          "model_module": "@jupyter-widgets/controls",
          "model_name": "ProgressStyleModel",
          "model_module_version": "1.5.0",
          "state": {
            "_model_module": "@jupyter-widgets/controls",
            "_model_module_version": "1.5.0",
            "_model_name": "ProgressStyleModel",
            "_view_count": null,
            "_view_module": "@jupyter-widgets/base",
            "_view_module_version": "1.2.0",
            "_view_name": "StyleView",
            "bar_color": null,
            "description_width": ""
          }
        },
        "93f6bde751374e88871898ababa598f2": {
          "model_module": "@jupyter-widgets/base",
          "model_name": "LayoutModel",
          "model_module_version": "1.2.0",
          "state": {
            "_model_module": "@jupyter-widgets/base",
            "_model_module_version": "1.2.0",
            "_model_name": "LayoutModel",
            "_view_count": null,
            "_view_module": "@jupyter-widgets/base",
            "_view_module_version": "1.2.0",
            "_view_name": "LayoutView",
            "align_content": null,
            "align_items": null,
            "align_self": null,
            "border": null,
            "bottom": null,
            "display": null,
            "flex": null,
            "flex_flow": null,
            "grid_area": null,
            "grid_auto_columns": null,
            "grid_auto_flow": null,
            "grid_auto_rows": null,
            "grid_column": null,
            "grid_gap": null,
            "grid_row": null,
            "grid_template_areas": null,
            "grid_template_columns": null,
            "grid_template_rows": null,
            "height": null,
            "justify_content": null,
            "justify_items": null,
            "left": null,
            "margin": null,
            "max_height": null,
            "max_width": null,
            "min_height": null,
            "min_width": null,
            "object_fit": null,
            "object_position": null,
            "order": null,
            "overflow": null,
            "overflow_x": null,
            "overflow_y": null,
            "padding": null,
            "right": null,
            "top": null,
            "visibility": null,
            "width": null
          }
        },
        "bfbe2478cf43429696cc30895bd0a405": {
          "model_module": "@jupyter-widgets/controls",
          "model_name": "DescriptionStyleModel",
          "model_module_version": "1.5.0",
          "state": {
            "_model_module": "@jupyter-widgets/controls",
            "_model_module_version": "1.5.0",
            "_model_name": "DescriptionStyleModel",
            "_view_count": null,
            "_view_module": "@jupyter-widgets/base",
            "_view_module_version": "1.2.0",
            "_view_name": "StyleView",
            "description_width": ""
          }
        },
        "04226920644042a4b9437359a99725eb": {
          "model_module": "@jupyter-widgets/controls",
          "model_name": "HBoxModel",
          "model_module_version": "1.5.0",
          "state": {
            "_dom_classes": [],
            "_model_module": "@jupyter-widgets/controls",
            "_model_module_version": "1.5.0",
            "_model_name": "HBoxModel",
            "_view_count": null,
            "_view_module": "@jupyter-widgets/controls",
            "_view_module_version": "1.5.0",
            "_view_name": "HBoxView",
            "box_style": "",
            "children": [
              "IPY_MODEL_673c54291cc54197ac3c3b1277c23434",
              "IPY_MODEL_ae55d2d6b4f14a1aba045629726506b6",
              "IPY_MODEL_a9d5ce432f464a6db20b0cd2247c5dd0"
            ],
            "layout": "IPY_MODEL_ba01d4e1d703403eb36095fb5dbed035"
          }
        },
        "673c54291cc54197ac3c3b1277c23434": {
          "model_module": "@jupyter-widgets/controls",
          "model_name": "HTMLModel",
          "model_module_version": "1.5.0",
          "state": {
            "_dom_classes": [],
            "_model_module": "@jupyter-widgets/controls",
            "_model_module_version": "1.5.0",
            "_model_name": "HTMLModel",
            "_view_count": null,
            "_view_module": "@jupyter-widgets/controls",
            "_view_module_version": "1.5.0",
            "_view_name": "HTMLView",
            "description": "",
            "description_tooltip": null,
            "layout": "IPY_MODEL_3290b063c95043adb6a2c25f460a9d9c",
            "placeholder": "​",
            "style": "IPY_MODEL_c8fcf31873044445b9998b6d70a777c5",
            "value": "model.safetensors: 100%"
          }
        },
        "ae55d2d6b4f14a1aba045629726506b6": {
          "model_module": "@jupyter-widgets/controls",
          "model_name": "FloatProgressModel",
          "model_module_version": "1.5.0",
          "state": {
            "_dom_classes": [],
            "_model_module": "@jupyter-widgets/controls",
            "_model_module_version": "1.5.0",
            "_model_name": "FloatProgressModel",
            "_view_count": null,
            "_view_module": "@jupyter-widgets/controls",
            "_view_module_version": "1.5.0",
            "_view_name": "ProgressView",
            "bar_style": "success",
            "description": "",
            "description_tooltip": null,
            "layout": "IPY_MODEL_b15eaea971b04110ae8b1e4ddb64019f",
            "max": 267832558,
            "min": 0,
            "orientation": "horizontal",
            "style": "IPY_MODEL_7b583ca3830f4d5ea4530fd95a384314",
            "value": 267832558
          }
        },
        "a9d5ce432f464a6db20b0cd2247c5dd0": {
          "model_module": "@jupyter-widgets/controls",
          "model_name": "HTMLModel",
          "model_module_version": "1.5.0",
          "state": {
            "_dom_classes": [],
            "_model_module": "@jupyter-widgets/controls",
            "_model_module_version": "1.5.0",
            "_model_name": "HTMLModel",
            "_view_count": null,
            "_view_module": "@jupyter-widgets/controls",
            "_view_module_version": "1.5.0",
            "_view_name": "HTMLView",
            "description": "",
            "description_tooltip": null,
            "layout": "IPY_MODEL_0764425f5c97487eb9d8dce1103199b3",
            "placeholder": "​",
            "style": "IPY_MODEL_2bf84177b03e48868ca72f44beabca60",
            "value": " 268M/268M [00:07&lt;00:00, 48.3MB/s]"
          }
        },
        "ba01d4e1d703403eb36095fb5dbed035": {
          "model_module": "@jupyter-widgets/base",
          "model_name": "LayoutModel",
          "model_module_version": "1.2.0",
          "state": {
            "_model_module": "@jupyter-widgets/base",
            "_model_module_version": "1.2.0",
            "_model_name": "LayoutModel",
            "_view_count": null,
            "_view_module": "@jupyter-widgets/base",
            "_view_module_version": "1.2.0",
            "_view_name": "LayoutView",
            "align_content": null,
            "align_items": null,
            "align_self": null,
            "border": null,
            "bottom": null,
            "display": null,
            "flex": null,
            "flex_flow": null,
            "grid_area": null,
            "grid_auto_columns": null,
            "grid_auto_flow": null,
            "grid_auto_rows": null,
            "grid_column": null,
            "grid_gap": null,
            "grid_row": null,
            "grid_template_areas": null,
            "grid_template_columns": null,
            "grid_template_rows": null,
            "height": null,
            "justify_content": null,
            "justify_items": null,
            "left": null,
            "margin": null,
            "max_height": null,
            "max_width": null,
            "min_height": null,
            "min_width": null,
            "object_fit": null,
            "object_position": null,
            "order": null,
            "overflow": null,
            "overflow_x": null,
            "overflow_y": null,
            "padding": null,
            "right": null,
            "top": null,
            "visibility": null,
            "width": null
          }
        },
        "3290b063c95043adb6a2c25f460a9d9c": {
          "model_module": "@jupyter-widgets/base",
          "model_name": "LayoutModel",
          "model_module_version": "1.2.0",
          "state": {
            "_model_module": "@jupyter-widgets/base",
            "_model_module_version": "1.2.0",
            "_model_name": "LayoutModel",
            "_view_count": null,
            "_view_module": "@jupyter-widgets/base",
            "_view_module_version": "1.2.0",
            "_view_name": "LayoutView",
            "align_content": null,
            "align_items": null,
            "align_self": null,
            "border": null,
            "bottom": null,
            "display": null,
            "flex": null,
            "flex_flow": null,
            "grid_area": null,
            "grid_auto_columns": null,
            "grid_auto_flow": null,
            "grid_auto_rows": null,
            "grid_column": null,
            "grid_gap": null,
            "grid_row": null,
            "grid_template_areas": null,
            "grid_template_columns": null,
            "grid_template_rows": null,
            "height": null,
            "justify_content": null,
            "justify_items": null,
            "left": null,
            "margin": null,
            "max_height": null,
            "max_width": null,
            "min_height": null,
            "min_width": null,
            "object_fit": null,
            "object_position": null,
            "order": null,
            "overflow": null,
            "overflow_x": null,
            "overflow_y": null,
            "padding": null,
            "right": null,
            "top": null,
            "visibility": null,
            "width": null
          }
        },
        "c8fcf31873044445b9998b6d70a777c5": {
          "model_module": "@jupyter-widgets/controls",
          "model_name": "DescriptionStyleModel",
          "model_module_version": "1.5.0",
          "state": {
            "_model_module": "@jupyter-widgets/controls",
            "_model_module_version": "1.5.0",
            "_model_name": "DescriptionStyleModel",
            "_view_count": null,
            "_view_module": "@jupyter-widgets/base",
            "_view_module_version": "1.2.0",
            "_view_name": "StyleView",
            "description_width": ""
          }
        },
        "b15eaea971b04110ae8b1e4ddb64019f": {
          "model_module": "@jupyter-widgets/base",
          "model_name": "LayoutModel",
          "model_module_version": "1.2.0",
          "state": {
            "_model_module": "@jupyter-widgets/base",
            "_model_module_version": "1.2.0",
            "_model_name": "LayoutModel",
            "_view_count": null,
            "_view_module": "@jupyter-widgets/base",
            "_view_module_version": "1.2.0",
            "_view_name": "LayoutView",
            "align_content": null,
            "align_items": null,
            "align_self": null,
            "border": null,
            "bottom": null,
            "display": null,
            "flex": null,
            "flex_flow": null,
            "grid_area": null,
            "grid_auto_columns": null,
            "grid_auto_flow": null,
            "grid_auto_rows": null,
            "grid_column": null,
            "grid_gap": null,
            "grid_row": null,
            "grid_template_areas": null,
            "grid_template_columns": null,
            "grid_template_rows": null,
            "height": null,
            "justify_content": null,
            "justify_items": null,
            "left": null,
            "margin": null,
            "max_height": null,
            "max_width": null,
            "min_height": null,
            "min_width": null,
            "object_fit": null,
            "object_position": null,
            "order": null,
            "overflow": null,
            "overflow_x": null,
            "overflow_y": null,
            "padding": null,
            "right": null,
            "top": null,
            "visibility": null,
            "width": null
          }
        },
        "7b583ca3830f4d5ea4530fd95a384314": {
          "model_module": "@jupyter-widgets/controls",
          "model_name": "ProgressStyleModel",
          "model_module_version": "1.5.0",
          "state": {
            "_model_module": "@jupyter-widgets/controls",
            "_model_module_version": "1.5.0",
            "_model_name": "ProgressStyleModel",
            "_view_count": null,
            "_view_module": "@jupyter-widgets/base",
            "_view_module_version": "1.2.0",
            "_view_name": "StyleView",
            "bar_color": null,
            "description_width": ""
          }
        },
        "0764425f5c97487eb9d8dce1103199b3": {
          "model_module": "@jupyter-widgets/base",
          "model_name": "LayoutModel",
          "model_module_version": "1.2.0",
          "state": {
            "_model_module": "@jupyter-widgets/base",
            "_model_module_version": "1.2.0",
            "_model_name": "LayoutModel",
            "_view_count": null,
            "_view_module": "@jupyter-widgets/base",
            "_view_module_version": "1.2.0",
            "_view_name": "LayoutView",
            "align_content": null,
            "align_items": null,
            "align_self": null,
            "border": null,
            "bottom": null,
            "display": null,
            "flex": null,
            "flex_flow": null,
            "grid_area": null,
            "grid_auto_columns": null,
            "grid_auto_flow": null,
            "grid_auto_rows": null,
            "grid_column": null,
            "grid_gap": null,
            "grid_row": null,
            "grid_template_areas": null,
            "grid_template_columns": null,
            "grid_template_rows": null,
            "height": null,
            "justify_content": null,
            "justify_items": null,
            "left": null,
            "margin": null,
            "max_height": null,
            "max_width": null,
            "min_height": null,
            "min_width": null,
            "object_fit": null,
            "object_position": null,
            "order": null,
            "overflow": null,
            "overflow_x": null,
            "overflow_y": null,
            "padding": null,
            "right": null,
            "top": null,
            "visibility": null,
            "width": null
          }
        },
        "2bf84177b03e48868ca72f44beabca60": {
          "model_module": "@jupyter-widgets/controls",
          "model_name": "DescriptionStyleModel",
          "model_module_version": "1.5.0",
          "state": {
            "_model_module": "@jupyter-widgets/controls",
            "_model_module_version": "1.5.0",
            "_model_name": "DescriptionStyleModel",
            "_view_count": null,
            "_view_module": "@jupyter-widgets/base",
            "_view_module_version": "1.2.0",
            "_view_name": "StyleView",
            "description_width": ""
          }
        },
        "11596f9a90ec4b96a2ac5909727e439b": {
          "model_module": "@jupyter-widgets/controls",
          "model_name": "HBoxModel",
          "model_module_version": "1.5.0",
          "state": {
            "_dom_classes": [],
            "_model_module": "@jupyter-widgets/controls",
            "_model_module_version": "1.5.0",
            "_model_name": "HBoxModel",
            "_view_count": null,
            "_view_module": "@jupyter-widgets/controls",
            "_view_module_version": "1.5.0",
            "_view_name": "HBoxView",
            "box_style": "",
            "children": [
              "IPY_MODEL_e4e7b8c0888148eaa79c01f53fbba516",
              "IPY_MODEL_cd23845ebecc414ba972be71b2b4ca05",
              "IPY_MODEL_b1a4e72cd2954d61b7299e6ddfc99744"
            ],
            "layout": "IPY_MODEL_33dd2e63d92b4f8b95f290ac56c3d7b1"
          }
        },
        "e4e7b8c0888148eaa79c01f53fbba516": {
          "model_module": "@jupyter-widgets/controls",
          "model_name": "HTMLModel",
          "model_module_version": "1.5.0",
          "state": {
            "_dom_classes": [],
            "_model_module": "@jupyter-widgets/controls",
            "_model_module_version": "1.5.0",
            "_model_name": "HTMLModel",
            "_view_count": null,
            "_view_module": "@jupyter-widgets/controls",
            "_view_module_version": "1.5.0",
            "_view_name": "HTMLView",
            "description": "",
            "description_tooltip": null,
            "layout": "IPY_MODEL_edbdb926176747b8bb3bdc9f009951df",
            "placeholder": "​",
            "style": "IPY_MODEL_d8faac041fe946d4bc4b5bfd3255fd59",
            "value": "tokenizer_config.json: 100%"
          }
        },
        "cd23845ebecc414ba972be71b2b4ca05": {
          "model_module": "@jupyter-widgets/controls",
          "model_name": "FloatProgressModel",
          "model_module_version": "1.5.0",
          "state": {
            "_dom_classes": [],
            "_model_module": "@jupyter-widgets/controls",
            "_model_module_version": "1.5.0",
            "_model_name": "FloatProgressModel",
            "_view_count": null,
            "_view_module": "@jupyter-widgets/controls",
            "_view_module_version": "1.5.0",
            "_view_name": "ProgressView",
            "bar_style": "success",
            "description": "",
            "description_tooltip": null,
            "layout": "IPY_MODEL_ab49df512f114090899a52f87b1dcbc8",
            "max": 48,
            "min": 0,
            "orientation": "horizontal",
            "style": "IPY_MODEL_d8615dfe8f1b4e4e85a29117956d0be9",
            "value": 48
          }
        },
        "b1a4e72cd2954d61b7299e6ddfc99744": {
          "model_module": "@jupyter-widgets/controls",
          "model_name": "HTMLModel",
          "model_module_version": "1.5.0",
          "state": {
            "_dom_classes": [],
            "_model_module": "@jupyter-widgets/controls",
            "_model_module_version": "1.5.0",
            "_model_name": "HTMLModel",
            "_view_count": null,
            "_view_module": "@jupyter-widgets/controls",
            "_view_module_version": "1.5.0",
            "_view_name": "HTMLView",
            "description": "",
            "description_tooltip": null,
            "layout": "IPY_MODEL_d834101df3354028805f0a92bdb54e71",
            "placeholder": "​",
            "style": "IPY_MODEL_074d0a3d6cfd45d4b95d6228fa8e405a",
            "value": " 48.0/48.0 [00:00&lt;00:00, 2.40kB/s]"
          }
        },
        "33dd2e63d92b4f8b95f290ac56c3d7b1": {
          "model_module": "@jupyter-widgets/base",
          "model_name": "LayoutModel",
          "model_module_version": "1.2.0",
          "state": {
            "_model_module": "@jupyter-widgets/base",
            "_model_module_version": "1.2.0",
            "_model_name": "LayoutModel",
            "_view_count": null,
            "_view_module": "@jupyter-widgets/base",
            "_view_module_version": "1.2.0",
            "_view_name": "LayoutView",
            "align_content": null,
            "align_items": null,
            "align_self": null,
            "border": null,
            "bottom": null,
            "display": null,
            "flex": null,
            "flex_flow": null,
            "grid_area": null,
            "grid_auto_columns": null,
            "grid_auto_flow": null,
            "grid_auto_rows": null,
            "grid_column": null,
            "grid_gap": null,
            "grid_row": null,
            "grid_template_areas": null,
            "grid_template_columns": null,
            "grid_template_rows": null,
            "height": null,
            "justify_content": null,
            "justify_items": null,
            "left": null,
            "margin": null,
            "max_height": null,
            "max_width": null,
            "min_height": null,
            "min_width": null,
            "object_fit": null,
            "object_position": null,
            "order": null,
            "overflow": null,
            "overflow_x": null,
            "overflow_y": null,
            "padding": null,
            "right": null,
            "top": null,
            "visibility": null,
            "width": null
          }
        },
        "edbdb926176747b8bb3bdc9f009951df": {
          "model_module": "@jupyter-widgets/base",
          "model_name": "LayoutModel",
          "model_module_version": "1.2.0",
          "state": {
            "_model_module": "@jupyter-widgets/base",
            "_model_module_version": "1.2.0",
            "_model_name": "LayoutModel",
            "_view_count": null,
            "_view_module": "@jupyter-widgets/base",
            "_view_module_version": "1.2.0",
            "_view_name": "LayoutView",
            "align_content": null,
            "align_items": null,
            "align_self": null,
            "border": null,
            "bottom": null,
            "display": null,
            "flex": null,
            "flex_flow": null,
            "grid_area": null,
            "grid_auto_columns": null,
            "grid_auto_flow": null,
            "grid_auto_rows": null,
            "grid_column": null,
            "grid_gap": null,
            "grid_row": null,
            "grid_template_areas": null,
            "grid_template_columns": null,
            "grid_template_rows": null,
            "height": null,
            "justify_content": null,
            "justify_items": null,
            "left": null,
            "margin": null,
            "max_height": null,
            "max_width": null,
            "min_height": null,
            "min_width": null,
            "object_fit": null,
            "object_position": null,
            "order": null,
            "overflow": null,
            "overflow_x": null,
            "overflow_y": null,
            "padding": null,
            "right": null,
            "top": null,
            "visibility": null,
            "width": null
          }
        },
        "d8faac041fe946d4bc4b5bfd3255fd59": {
          "model_module": "@jupyter-widgets/controls",
          "model_name": "DescriptionStyleModel",
          "model_module_version": "1.5.0",
          "state": {
            "_model_module": "@jupyter-widgets/controls",
            "_model_module_version": "1.5.0",
            "_model_name": "DescriptionStyleModel",
            "_view_count": null,
            "_view_module": "@jupyter-widgets/base",
            "_view_module_version": "1.2.0",
            "_view_name": "StyleView",
            "description_width": ""
          }
        },
        "ab49df512f114090899a52f87b1dcbc8": {
          "model_module": "@jupyter-widgets/base",
          "model_name": "LayoutModel",
          "model_module_version": "1.2.0",
          "state": {
            "_model_module": "@jupyter-widgets/base",
            "_model_module_version": "1.2.0",
            "_model_name": "LayoutModel",
            "_view_count": null,
            "_view_module": "@jupyter-widgets/base",
            "_view_module_version": "1.2.0",
            "_view_name": "LayoutView",
            "align_content": null,
            "align_items": null,
            "align_self": null,
            "border": null,
            "bottom": null,
            "display": null,
            "flex": null,
            "flex_flow": null,
            "grid_area": null,
            "grid_auto_columns": null,
            "grid_auto_flow": null,
            "grid_auto_rows": null,
            "grid_column": null,
            "grid_gap": null,
            "grid_row": null,
            "grid_template_areas": null,
            "grid_template_columns": null,
            "grid_template_rows": null,
            "height": null,
            "justify_content": null,
            "justify_items": null,
            "left": null,
            "margin": null,
            "max_height": null,
            "max_width": null,
            "min_height": null,
            "min_width": null,
            "object_fit": null,
            "object_position": null,
            "order": null,
            "overflow": null,
            "overflow_x": null,
            "overflow_y": null,
            "padding": null,
            "right": null,
            "top": null,
            "visibility": null,
            "width": null
          }
        },
        "d8615dfe8f1b4e4e85a29117956d0be9": {
          "model_module": "@jupyter-widgets/controls",
          "model_name": "ProgressStyleModel",
          "model_module_version": "1.5.0",
          "state": {
            "_model_module": "@jupyter-widgets/controls",
            "_model_module_version": "1.5.0",
            "_model_name": "ProgressStyleModel",
            "_view_count": null,
            "_view_module": "@jupyter-widgets/base",
            "_view_module_version": "1.2.0",
            "_view_name": "StyleView",
            "bar_color": null,
            "description_width": ""
          }
        },
        "d834101df3354028805f0a92bdb54e71": {
          "model_module": "@jupyter-widgets/base",
          "model_name": "LayoutModel",
          "model_module_version": "1.2.0",
          "state": {
            "_model_module": "@jupyter-widgets/base",
            "_model_module_version": "1.2.0",
            "_model_name": "LayoutModel",
            "_view_count": null,
            "_view_module": "@jupyter-widgets/base",
            "_view_module_version": "1.2.0",
            "_view_name": "LayoutView",
            "align_content": null,
            "align_items": null,
            "align_self": null,
            "border": null,
            "bottom": null,
            "display": null,
            "flex": null,
            "flex_flow": null,
            "grid_area": null,
            "grid_auto_columns": null,
            "grid_auto_flow": null,
            "grid_auto_rows": null,
            "grid_column": null,
            "grid_gap": null,
            "grid_row": null,
            "grid_template_areas": null,
            "grid_template_columns": null,
            "grid_template_rows": null,
            "height": null,
            "justify_content": null,
            "justify_items": null,
            "left": null,
            "margin": null,
            "max_height": null,
            "max_width": null,
            "min_height": null,
            "min_width": null,
            "object_fit": null,
            "object_position": null,
            "order": null,
            "overflow": null,
            "overflow_x": null,
            "overflow_y": null,
            "padding": null,
            "right": null,
            "top": null,
            "visibility": null,
            "width": null
          }
        },
        "074d0a3d6cfd45d4b95d6228fa8e405a": {
          "model_module": "@jupyter-widgets/controls",
          "model_name": "DescriptionStyleModel",
          "model_module_version": "1.5.0",
          "state": {
            "_model_module": "@jupyter-widgets/controls",
            "_model_module_version": "1.5.0",
            "_model_name": "DescriptionStyleModel",
            "_view_count": null,
            "_view_module": "@jupyter-widgets/base",
            "_view_module_version": "1.2.0",
            "_view_name": "StyleView",
            "description_width": ""
          }
        },
        "2bb7462cb3954c31b1cbe399d0b2adf6": {
          "model_module": "@jupyter-widgets/controls",
          "model_name": "HBoxModel",
          "model_module_version": "1.5.0",
          "state": {
            "_dom_classes": [],
            "_model_module": "@jupyter-widgets/controls",
            "_model_module_version": "1.5.0",
            "_model_name": "HBoxModel",
            "_view_count": null,
            "_view_module": "@jupyter-widgets/controls",
            "_view_module_version": "1.5.0",
            "_view_name": "HBoxView",
            "box_style": "",
            "children": [
              "IPY_MODEL_5e2b013bc92a4f34800c63fab3a5e4aa",
              "IPY_MODEL_1eb6cf7bebf14527b6d96fbb5728dd0a",
              "IPY_MODEL_67dfe422f7cd48e5a66528ac19ce1b1e"
            ],
            "layout": "IPY_MODEL_394507b2a8da472da4b0fb2808cde9e8"
          }
        },
        "5e2b013bc92a4f34800c63fab3a5e4aa": {
          "model_module": "@jupyter-widgets/controls",
          "model_name": "HTMLModel",
          "model_module_version": "1.5.0",
          "state": {
            "_dom_classes": [],
            "_model_module": "@jupyter-widgets/controls",
            "_model_module_version": "1.5.0",
            "_model_name": "HTMLModel",
            "_view_count": null,
            "_view_module": "@jupyter-widgets/controls",
            "_view_module_version": "1.5.0",
            "_view_name": "HTMLView",
            "description": "",
            "description_tooltip": null,
            "layout": "IPY_MODEL_433d4a4429ec41cfab29734dbcbd229c",
            "placeholder": "​",
            "style": "IPY_MODEL_9db37060778b45a6b9995305be815cf7",
            "value": "vocab.txt: 100%"
          }
        },
        "1eb6cf7bebf14527b6d96fbb5728dd0a": {
          "model_module": "@jupyter-widgets/controls",
          "model_name": "FloatProgressModel",
          "model_module_version": "1.5.0",
          "state": {
            "_dom_classes": [],
            "_model_module": "@jupyter-widgets/controls",
            "_model_module_version": "1.5.0",
            "_model_name": "FloatProgressModel",
            "_view_count": null,
            "_view_module": "@jupyter-widgets/controls",
            "_view_module_version": "1.5.0",
            "_view_name": "ProgressView",
            "bar_style": "success",
            "description": "",
            "description_tooltip": null,
            "layout": "IPY_MODEL_b63fc32ca3904c8284e6e3fa54c6b2e5",
            "max": 231508,
            "min": 0,
            "orientation": "horizontal",
            "style": "IPY_MODEL_3c4c03e132be414097aea638b08bbe39",
            "value": 231508
          }
        },
        "67dfe422f7cd48e5a66528ac19ce1b1e": {
          "model_module": "@jupyter-widgets/controls",
          "model_name": "HTMLModel",
          "model_module_version": "1.5.0",
          "state": {
            "_dom_classes": [],
            "_model_module": "@jupyter-widgets/controls",
            "_model_module_version": "1.5.0",
            "_model_name": "HTMLModel",
            "_view_count": null,
            "_view_module": "@jupyter-widgets/controls",
            "_view_module_version": "1.5.0",
            "_view_name": "HTMLView",
            "description": "",
            "description_tooltip": null,
            "layout": "IPY_MODEL_4b2f15b46b30421d89dc1d996e5dc0b2",
            "placeholder": "​",
            "style": "IPY_MODEL_976f7a03a5ae4d818a34f7976d72a0e1",
            "value": " 232k/232k [00:00&lt;00:00, 1.75MB/s]"
          }
        },
        "394507b2a8da472da4b0fb2808cde9e8": {
          "model_module": "@jupyter-widgets/base",
          "model_name": "LayoutModel",
          "model_module_version": "1.2.0",
          "state": {
            "_model_module": "@jupyter-widgets/base",
            "_model_module_version": "1.2.0",
            "_model_name": "LayoutModel",
            "_view_count": null,
            "_view_module": "@jupyter-widgets/base",
            "_view_module_version": "1.2.0",
            "_view_name": "LayoutView",
            "align_content": null,
            "align_items": null,
            "align_self": null,
            "border": null,
            "bottom": null,
            "display": null,
            "flex": null,
            "flex_flow": null,
            "grid_area": null,
            "grid_auto_columns": null,
            "grid_auto_flow": null,
            "grid_auto_rows": null,
            "grid_column": null,
            "grid_gap": null,
            "grid_row": null,
            "grid_template_areas": null,
            "grid_template_columns": null,
            "grid_template_rows": null,
            "height": null,
            "justify_content": null,
            "justify_items": null,
            "left": null,
            "margin": null,
            "max_height": null,
            "max_width": null,
            "min_height": null,
            "min_width": null,
            "object_fit": null,
            "object_position": null,
            "order": null,
            "overflow": null,
            "overflow_x": null,
            "overflow_y": null,
            "padding": null,
            "right": null,
            "top": null,
            "visibility": null,
            "width": null
          }
        },
        "433d4a4429ec41cfab29734dbcbd229c": {
          "model_module": "@jupyter-widgets/base",
          "model_name": "LayoutModel",
          "model_module_version": "1.2.0",
          "state": {
            "_model_module": "@jupyter-widgets/base",
            "_model_module_version": "1.2.0",
            "_model_name": "LayoutModel",
            "_view_count": null,
            "_view_module": "@jupyter-widgets/base",
            "_view_module_version": "1.2.0",
            "_view_name": "LayoutView",
            "align_content": null,
            "align_items": null,
            "align_self": null,
            "border": null,
            "bottom": null,
            "display": null,
            "flex": null,
            "flex_flow": null,
            "grid_area": null,
            "grid_auto_columns": null,
            "grid_auto_flow": null,
            "grid_auto_rows": null,
            "grid_column": null,
            "grid_gap": null,
            "grid_row": null,
            "grid_template_areas": null,
            "grid_template_columns": null,
            "grid_template_rows": null,
            "height": null,
            "justify_content": null,
            "justify_items": null,
            "left": null,
            "margin": null,
            "max_height": null,
            "max_width": null,
            "min_height": null,
            "min_width": null,
            "object_fit": null,
            "object_position": null,
            "order": null,
            "overflow": null,
            "overflow_x": null,
            "overflow_y": null,
            "padding": null,
            "right": null,
            "top": null,
            "visibility": null,
            "width": null
          }
        },
        "9db37060778b45a6b9995305be815cf7": {
          "model_module": "@jupyter-widgets/controls",
          "model_name": "DescriptionStyleModel",
          "model_module_version": "1.5.0",
          "state": {
            "_model_module": "@jupyter-widgets/controls",
            "_model_module_version": "1.5.0",
            "_model_name": "DescriptionStyleModel",
            "_view_count": null,
            "_view_module": "@jupyter-widgets/base",
            "_view_module_version": "1.2.0",
            "_view_name": "StyleView",
            "description_width": ""
          }
        },
        "b63fc32ca3904c8284e6e3fa54c6b2e5": {
          "model_module": "@jupyter-widgets/base",
          "model_name": "LayoutModel",
          "model_module_version": "1.2.0",
          "state": {
            "_model_module": "@jupyter-widgets/base",
            "_model_module_version": "1.2.0",
            "_model_name": "LayoutModel",
            "_view_count": null,
            "_view_module": "@jupyter-widgets/base",
            "_view_module_version": "1.2.0",
            "_view_name": "LayoutView",
            "align_content": null,
            "align_items": null,
            "align_self": null,
            "border": null,
            "bottom": null,
            "display": null,
            "flex": null,
            "flex_flow": null,
            "grid_area": null,
            "grid_auto_columns": null,
            "grid_auto_flow": null,
            "grid_auto_rows": null,
            "grid_column": null,
            "grid_gap": null,
            "grid_row": null,
            "grid_template_areas": null,
            "grid_template_columns": null,
            "grid_template_rows": null,
            "height": null,
            "justify_content": null,
            "justify_items": null,
            "left": null,
            "margin": null,
            "max_height": null,
            "max_width": null,
            "min_height": null,
            "min_width": null,
            "object_fit": null,
            "object_position": null,
            "order": null,
            "overflow": null,
            "overflow_x": null,
            "overflow_y": null,
            "padding": null,
            "right": null,
            "top": null,
            "visibility": null,
            "width": null
          }
        },
        "3c4c03e132be414097aea638b08bbe39": {
          "model_module": "@jupyter-widgets/controls",
          "model_name": "ProgressStyleModel",
          "model_module_version": "1.5.0",
          "state": {
            "_model_module": "@jupyter-widgets/controls",
            "_model_module_version": "1.5.0",
            "_model_name": "ProgressStyleModel",
            "_view_count": null,
            "_view_module": "@jupyter-widgets/base",
            "_view_module_version": "1.2.0",
            "_view_name": "StyleView",
            "bar_color": null,
            "description_width": ""
          }
        },
        "4b2f15b46b30421d89dc1d996e5dc0b2": {
          "model_module": "@jupyter-widgets/base",
          "model_name": "LayoutModel",
          "model_module_version": "1.2.0",
          "state": {
            "_model_module": "@jupyter-widgets/base",
            "_model_module_version": "1.2.0",
            "_model_name": "LayoutModel",
            "_view_count": null,
            "_view_module": "@jupyter-widgets/base",
            "_view_module_version": "1.2.0",
            "_view_name": "LayoutView",
            "align_content": null,
            "align_items": null,
            "align_self": null,
            "border": null,
            "bottom": null,
            "display": null,
            "flex": null,
            "flex_flow": null,
            "grid_area": null,
            "grid_auto_columns": null,
            "grid_auto_flow": null,
            "grid_auto_rows": null,
            "grid_column": null,
            "grid_gap": null,
            "grid_row": null,
            "grid_template_areas": null,
            "grid_template_columns": null,
            "grid_template_rows": null,
            "height": null,
            "justify_content": null,
            "justify_items": null,
            "left": null,
            "margin": null,
            "max_height": null,
            "max_width": null,
            "min_height": null,
            "min_width": null,
            "object_fit": null,
            "object_position": null,
            "order": null,
            "overflow": null,
            "overflow_x": null,
            "overflow_y": null,
            "padding": null,
            "right": null,
            "top": null,
            "visibility": null,
            "width": null
          }
        },
        "976f7a03a5ae4d818a34f7976d72a0e1": {
          "model_module": "@jupyter-widgets/controls",
          "model_name": "DescriptionStyleModel",
          "model_module_version": "1.5.0",
          "state": {
            "_model_module": "@jupyter-widgets/controls",
            "_model_module_version": "1.5.0",
            "_model_name": "DescriptionStyleModel",
            "_view_count": null,
            "_view_module": "@jupyter-widgets/base",
            "_view_module_version": "1.2.0",
            "_view_name": "StyleView",
            "description_width": ""
          }
        }
      }
    }
  },
  "cells": [
    {
      "cell_type": "markdown",
      "metadata": {
        "id": "view-in-github",
        "colab_type": "text"
      },
      "source": [
        "<a href=\"https://colab.research.google.com/github/farhadmohmand66/sentiment_analysis_of_subreddits/blob/main/sentiement_analysis_reddit_confession.ipynb\" target=\"_parent\"><img src=\"https://colab.research.google.com/assets/colab-badge.svg\" alt=\"Open In Colab\"/></a>"
      ]
    },
    {
      "cell_type": "markdown",
      "source": [
        "## Find Juicy Confession from Subreddits by Sentiment Analysis\n",
        "\n",
        "**Initial Requirement:** The primary goal of this notebook was to identify \"juicy\" confessions from a dataset of Reddit posts. \"Juicy\" was initially defined subjectively, aiming to find content related to secrets, controversial topics, or emotionally charged situations.\n",
        "\n",
        "**Steps Taken and Achievements:**\n",
        "\n",
        "1.  **Data Loading and Cleaning:** We successfully loaded the raw data from a CSV file into a pandas DataFrame. Initial exploration using `df.head()` and `df.info()` provided an understanding of the dataset's structure and identified the presence of duplicate titles and missing values in the 'author' column. We then addressed duplicate titles by removing them, resulting in a cleaner dataset. A custom `clean_text` function was developed and applied to both 'title' and 'content' columns, removing emojis, special symbols, markdown, and normalizing whitespace while preserving essential punctuation like apostrophes and parentheses.\n",
        "\n",
        "2.  **Keyword-Based Filtering:** To make an initial selection of potentially \"juicy\" content, we defined a list of keywords associated with sensitive or controversial topics. A boolean mask was created to filter the DataFrame, keeping only the rows where the 'content' contained at least one of these keywords (case-insensitive). This step resulted in the `juicy_confessions_df`, a subset of the original data likely containing relevant confessions.\n",
        "\n",
        "3.  **Sentiment Analysis Refining:** We further refined the selection by applying sentiment analysis to the cleaned titles of the keyword-filtered confessions. Using the `distilbert-base-uncased-finetuned-sst-2-english` model, we analyzed the sentiment of each `cleaned_title`, obtaining a sentiment label ('POSITIVE' or 'NEGATIVE') and a confidence score. We then created boolean masks to identify confessions with *strong* sentiment (either positive or negative) based on a defined threshold (0.8).\n",
        "\n",
        "4.  **Final Filtering and Saving:** The final `juicy_confessions_sentiment_df` DataFrame was created by filtering the `juicy_confessions_df` using the combined sentiment mask. This DataFrame contains only those confessions that not only matched the initial keyword criteria but also had a cleaned title exhibiting strong positive or negative sentiment. We also counted the distribution of negative and positive sentiments in this final set. Finally, this curated DataFrame, representing our identified \"juicy\" confessions, was successfully saved to a CSV file named `juicy_confessions_sentiment.csv` in Google Drive, using `index=False` and `encoding='utf-8-sig'` for optimal format and compatibility.\n",
        "\n",
        "**Overall Achievement:** By combining data cleaning, a keyword-based filter, and a sentiment-based filter on the title's emotional intensity, we successfully extracted a refined dataset of confessions from the initial large collection. This final dataset, saved as `juicy_confessions_sentiment.csv`, represents the posts most likely to fit the description of \"juicy\" according to our defined criteria and the sentiment analysis model's predictions.\n",
        "\"\"\""
      ],
      "metadata": {
        "id": "WYGo-Q-R0pU9"
      }
    },
    {
      "cell_type": "code",
      "source": [
        "from google.colab import drive\n",
        "drive.mount('/content/drive')"
      ],
      "metadata": {
        "colab": {
          "base_uri": "https://localhost:8080/"
        },
        "id": "IDc0vL4ORUtv",
        "outputId": "2b1a42e4-6db7-4dfe-dbd7-fdcbe8e1bd49"
      },
      "execution_count": 2,
      "outputs": [
        {
          "output_type": "stream",
          "name": "stdout",
          "text": [
            "Mounted at /content/drive\n"
          ]
        }
      ]
    },
    {
      "cell_type": "code",
      "execution_count": 3,
      "metadata": {
        "colab": {
          "base_uri": "https://localhost:8080/"
        },
        "id": "xJ7jE6Om3kzC",
        "outputId": "52a0b0ae-743a-4746-a0fc-cfef5bf98167"
      },
      "outputs": [
        {
          "output_type": "stream",
          "name": "stdout",
          "text": [
            "  subreddit                                              title  \\\n",
            "0  adultery     I'm cooked, chat🌬️Ventilation💨 (self.adultery)   \n",
            "1  adultery       Thank you chat🙌✨Good Vibes✨🙌 (self.adultery)   \n",
            "2  adultery  Why does this hurt so much?😩Donezo🥩 x 🌬️Ventil...   \n",
            "3  adultery  I miss you so much - after 6 months and after ...   \n",
            "4  adultery  Tinder video selfie verification?💻Hello IT?📞 (...   \n",
            "\n",
            "                                             content              author  \\\n",
            "0  I am reeling. It wasn't supposed to be like th...    onmykneesdarling   \n",
            "1  Two years ago I met an amazing women on AM, we...           Jgords235   \n",
            "2  I never thought I’d be here…writing something ...  Visible_Fault_6070   \n",
            "3  Dear You, I miss you. I miss you so much. The ...     Momoparadise619   \n",
            "4  So I decided to roll up a Tinder account to se...      GentlemanDom72   \n",
            "\n",
            "                                                 url  \n",
            "0  https://old.reddit.com/r/adultery/comments/1lg...  \n",
            "1  https://old.reddit.com/r/adultery/comments/1lg...  \n",
            "2  https://old.reddit.com/r/adultery/comments/1lg...  \n",
            "3  https://old.reddit.com/r/adultery/comments/1lf...  \n",
            "4  https://old.reddit.com/r/adultery/comments/1lg...  \n"
          ]
        }
      ],
      "source": [
        "import re\n",
        "import pandas as pd\n",
        "\n",
        "df = pd.read_csv('/content/drive/MyDrive/Colab Notebooks/reddite_confessions.csv')\n",
        "print(df.head())"
      ]
    },
    {
      "cell_type": "code",
      "source": [
        "df.info()"
      ],
      "metadata": {
        "colab": {
          "base_uri": "https://localhost:8080/"
        },
        "id": "CAVmSD91RvAu",
        "outputId": "2688134a-5f1d-4692-d724-27ef180ef2a6"
      },
      "execution_count": 4,
      "outputs": [
        {
          "output_type": "stream",
          "name": "stdout",
          "text": [
            "<class 'pandas.core.frame.DataFrame'>\n",
            "RangeIndex: 878 entries, 0 to 877\n",
            "Data columns (total 5 columns):\n",
            " #   Column     Non-Null Count  Dtype \n",
            "---  ------     --------------  ----- \n",
            " 0   subreddit  878 non-null    object\n",
            " 1   title      878 non-null    object\n",
            " 2   content    878 non-null    object\n",
            " 3   author     785 non-null    object\n",
            " 4   url        878 non-null    object\n",
            "dtypes: object(5)\n",
            "memory usage: 34.4+ KB\n"
          ]
        }
      ]
    },
    {
      "cell_type": "code",
      "source": [
        "# check duplicate titles\n",
        "duplicate_titles = df[df.duplicated('title', keep=False)]\n",
        "\n",
        "if not duplicate_titles.empty:\n",
        "  print(\"\\nDuplicate titles found:\", len(duplicate_titles))\n",
        "else:\n",
        "  print(\"\\nNo duplicate titles found.\")"
      ],
      "metadata": {
        "colab": {
          "base_uri": "https://localhost:8080/"
        },
        "id": "lyYXKLAa4DOk",
        "outputId": "1844b1bf-532a-44a2-a254-66669ba28e2d"
      },
      "execution_count": 6,
      "outputs": [
        {
          "output_type": "stream",
          "name": "stdout",
          "text": [
            "\n",
            "Duplicate titles found: 144\n"
          ]
        }
      ]
    },
    {
      "cell_type": "code",
      "source": [
        "df = df.drop_duplicates(subset='title', keep='first')\n",
        "print(\"\\nDataFrame after dropping duplicate titles:\")\n",
        "\n",
        "# Verify that duplicates have been dropped\n",
        "duplicate_titles_after_drop = df[df.duplicated('title', keep=False)]\n",
        "print(\"\\nNumber of duplicate titles after drop:\", len(duplicate_titles_after_drop))"
      ],
      "metadata": {
        "colab": {
          "base_uri": "https://localhost:8080/"
        },
        "id": "6wIMp0z49gRI",
        "outputId": "766e240b-bd43-40f0-9c4f-e65c99278a51"
      },
      "execution_count": 7,
      "outputs": [
        {
          "output_type": "stream",
          "name": "stdout",
          "text": [
            "\n",
            "DataFrame after dropping duplicate titles:\n",
            "\n",
            "Number of duplicate titles after drop: 0\n"
          ]
        }
      ]
    },
    {
      "cell_type": "code",
      "source": [
        "df.info()"
      ],
      "metadata": {
        "colab": {
          "base_uri": "https://localhost:8080/"
        },
        "id": "Cy7XQz-n9nF1",
        "outputId": "9ea9c1fc-a26a-4409-af2f-bbf1e832511a"
      },
      "execution_count": 8,
      "outputs": [
        {
          "output_type": "stream",
          "name": "stdout",
          "text": [
            "<class 'pandas.core.frame.DataFrame'>\n",
            "Index: 806 entries, 0 to 877\n",
            "Data columns (total 5 columns):\n",
            " #   Column     Non-Null Count  Dtype \n",
            "---  ------     --------------  ----- \n",
            " 0   subreddit  806 non-null    object\n",
            " 1   title      806 non-null    object\n",
            " 2   content    806 non-null    object\n",
            " 3   author     718 non-null    object\n",
            " 4   url        806 non-null    object\n",
            "dtypes: object(5)\n",
            "memory usage: 37.8+ KB\n"
          ]
        }
      ]
    },
    {
      "cell_type": "markdown",
      "source": [
        "    Clean text while preserving apostrophes, parentheses, and essential punctuation.\n",
        "    Removes emojis, special symbols, and markdown formatting. Clean the text so that it convert to another language easily"
      ],
      "metadata": {
        "id": "-un1Bk5lKyqv"
      }
    },
    {
      "cell_type": "code",
      "source": [
        "def clean_text(text):\n",
        "    \"\"\"\n",
        "    Clean text while preserving apostrophes, parentheses, and essential punctuation.\n",
        "    Removes emojis, special symbols, and markdown formatting.\n",
        "    Adds spaces around removed emojis/symbols to prevent word merging.\n",
        "    Removes extra dots and normalizes whitespace.\n",
        "    \"\"\"\n",
        "    if not text:\n",
        "        return \"\"\n",
        "\n",
        "    # Step 1: Replace problematic apostrophes and quotes\n",
        "    text = text.replace(\"’\", \"'\")  # Replace curly apostrophe with straight\n",
        "    text = text.replace(\"‘\", \"'\")  # Replace left single quotation mark\n",
        "    text = text.replace(\"“\", '\"')  # Replace left double quotation mark\n",
        "    text = text.replace(\"”\", '\"')  # Replace right double quotation mark\n",
        "\n",
        "    # Step 2: Remove emojis and special symbols (except parentheses and basic punctuation)\n",
        "    # Keep: letters, numbers, basic punctuation, parentheses, apostrophes\n",
        "    # This regex removes characters that are NOT:\n",
        "    # \\w (word characters: a-z, A-Z, 0-9, _)\n",
        "    # \\s (whitespace characters)\n",
        "    # .,!?\\'\"()&$%\\-–—:;+=@#*/\\| (specific allowed punctuation and symbols)\n",
        "    # By removing anything *not* in this set, it should remove emojis and other symbols.\n",
        "    # We also add spaces around the removed characters to prevent word merging.\n",
        "    text = re.sub(r'([^\\w\\s.,!?\\'\"()&$%\\-–—:;+=@#*/\\|])', r' ', text)\n",
        "\n",
        "\n",
        "    # Step 3: Clean up markdown formatting\n",
        "    text = re.sub(r'\\*{2}(.*?)\\*{2}', r'\\1', text)  # Remove bold formatting\n",
        "    text = re.sub(r'\\*(.*?)\\*', r'\\1', text)         # Remove italic formatting\n",
        "    text = re.sub(r'~~(.*?)~~', r'\\1', text)         # Remove strikethrough\n",
        "    text = re.sub(r'^>.*$', '', text, flags=re.MULTILINE)  # Remove blockquotes\n",
        "\n",
        "    # Step 4: Remove Reddit-specific placeholders\n",
        "    text = re.sub(r'\\[deleted\\]|\\[removed\\]', '', text, flags=re.IGNORECASE)\n",
        "\n",
        "    # Step 5: Remove extra dots (e.g., ...) and normalize spaces\n",
        "    text = re.sub(r'\\.{2,}', '.', text)  # Replace two or more consecutive dots with a single dot\n",
        "    text = re.sub(r'\\s+', ' ', text).strip() # Normalize whitespace and trim\n",
        "\n",
        "    return text"
      ],
      "metadata": {
        "id": "AsO5qbx0amF1"
      },
      "execution_count": 15,
      "outputs": []
    },
    {
      "cell_type": "code",
      "source": [
        "# testing the function hot it clea\n",
        "print(clean_text(\"I'm cooked 6, chat🌬️Ventilation💨 (self.adultery)\"))\n",
        "# Output: \"I'm cooked, chatVentilation (self.adultery)\"\n",
        "\n",
        "print(clean_text(\"Why does this hurt so much?😩Donezo🥩 x 🌬️Ventil...\"))\n",
        "# Output: \"Why does this hurt so much?Donezo x Ventil...\"\n",
        "\n",
        "print(clean_text(\"Tinder video selfie verification?💻Hello IT?📞 (.\"))\n",
        "# Output: \"Tinder video selfie verification?Hello IT? (.\""
      ],
      "metadata": {
        "colab": {
          "base_uri": "https://localhost:8080/"
        },
        "id": "gt2TmwDhasYN",
        "outputId": "c0f4b9eb-c25a-43cf-aaf3-45dc7acbe4c0"
      },
      "execution_count": 18,
      "outputs": [
        {
          "output_type": "stream",
          "name": "stdout",
          "text": [
            "I'm cooked 6, chat Ventilation (self.adultery)\n",
            "Why does this hurt so much? Donezo x Ventil.\n",
            "Tinder video selfie verification? Hello IT? (.\n"
          ]
        }
      ]
    },
    {
      "cell_type": "code",
      "source": [
        "df['cleaned_title'] = df['title'].apply(clean_text)\n",
        "\n",
        "print(\"\\nDataFrame with cleaned titles:\")\n",
        "print(df[['title', 'cleaned_title']].head(2))"
      ],
      "metadata": {
        "colab": {
          "base_uri": "https://localhost:8080/"
        },
        "id": "oK5r1Af4E8kT",
        "outputId": "6ad23bd6-037d-4f26-c7b1-522e926049fe"
      },
      "execution_count": 19,
      "outputs": [
        {
          "output_type": "stream",
          "name": "stdout",
          "text": [
            "\n",
            "DataFrame with cleaned titles:\n",
            "                                            title  \\\n",
            "0  I'm cooked, chat🌬️Ventilation💨 (self.adultery)   \n",
            "1    Thank you chat🙌✨Good Vibes✨🙌 (self.adultery)   \n",
            "\n",
            "                                  cleaned_title  \n",
            "0  I'm cooked, chat Ventilation (self.adultery)  \n",
            "1     Thank you chat Good Vibes (self.adultery)  \n"
          ]
        }
      ]
    },
    {
      "cell_type": "code",
      "source": [
        "df['cleaned_content'] = df['content'].apply(clean_text)"
      ],
      "metadata": {
        "id": "gjq9uW_MbNno"
      },
      "execution_count": 21,
      "outputs": []
    },
    {
      "cell_type": "code",
      "source": [
        "# df.head(2)"
      ],
      "metadata": {
        "id": "KHC3HLLkFalL"
      },
      "execution_count": 23,
      "outputs": []
    },
    {
      "cell_type": "markdown",
      "source": [
        "I just need to find contents that deal with \"confessions\" (any topic, but should be \"juicy\")"
      ],
      "metadata": {
        "id": "OPROPprpL2FQ"
      }
    },
    {
      "cell_type": "code",
      "source": [
        "# To find content related to \"confessions\" and potentially \"juicy\" topics,\n",
        "# we can filter the DataFrame based on keywords in the title or body of the posts.\n",
        "# \"Juicy\" is subjective, so we'll look for common themes that might be considered juicy\n",
        "# within confessions, such as infidelity, secrets, controversial actions, etc.\n",
        "\n",
        "# Let's define a list of keywords that might indicate a \"juicy\" confession.\n",
        "# This is a starting point and can be expanded based on specific interests.\n",
        "juicy_keywords = [\n",
        "    \"cheat\", \"affair\", \"lie\", \"lied\", \"steal\", \"stole\", \"betray\", \"secret\", \"regret\",\n",
        "    \"guilt\", \"shame\", \"hidden\", \"confess\", \"stolen\", \"deceive\", \"manipulate\", \"obsess\",\n",
        "    \"addict\", \"addiction\", \"obsession\", \"illegal\", \"crime\", \"criminal\", \"police\",\n",
        "    \"murder\", \"kill\", \"drug\", \"alcohol\", \"sex\", \"sexual\", \"relationship\", \"affair\",\n",
        "    \"pregnant\", \"abortion\", \"divorce\", \"marriage\", \"fired\", \"job\", \"work\", \"money\"\n",
        "]\n",
        "\n",
        "# We can search for these keywords in the 'content' column of the DataFrame.\n",
        "# We will perform a case-insensitive search.\n",
        "\n",
        "text_column_for_keywords = 'content'\n",
        "\n",
        "if text_column_for_keywords in df.columns:\n",
        "    # Create a boolean mask where any of the juicy keywords are present in the text column\n",
        "    # We use | (OR) to combine the conditions for each keyword\n",
        "    keyword_mask = df[text_column_for_keywords].str.contains('|'.join(juicy_keywords), case=False, na=False)\n",
        "\n",
        "    # Filter the DataFrame using the mask\n",
        "    juicy_confessions_df = df[keyword_mask].copy() # Use .copy() to avoid SettingWithCopyWarning\n",
        "\n",
        "    print(f\"\\nFound {len(juicy_confessions_df)} potential juicy confessions based on keywords in the '{text_column_for_keywords}' column.\")\n",
        "\n",
        "    # Display the first few rows of the potentially juicy confessions\n",
        "    print(juicy_confessions_df[['title', text_column_for_keywords]].head())\n",
        "\n",
        "    # You can further inspect the contents of juicy_confessions_df\n",
        "    # For example, to see the full text of a confession:\n",
        "    # for index, row in juicy_confessions_df.head().iterrows():\n",
        "    #    print(\"\\n--- Title ---\")\n",
        "    #    print(row['title'])\n",
        "    #    if text_column in row:\n",
        "    #        print(\"\\n--- Body ---\")\n",
        "    #        print(row[text_column])\n",
        "    #    print(\"-\" * 20)\n",
        "else:\n",
        "    print(f\"\\nWarning: Text column '{text_column_for_keywords}' not found in the DataFrame.\")"
      ],
      "metadata": {
        "colab": {
          "base_uri": "https://localhost:8080/"
        },
        "id": "NfSv7Hsm98wq",
        "outputId": "681512b9-023f-414b-bd11-f6d5323f4c47"
      },
      "execution_count": 25,
      "outputs": [
        {
          "output_type": "stream",
          "name": "stdout",
          "text": [
            "\n",
            "Found 647 potential juicy confessions based on keywords in the 'content' column.\n",
            "                                               title  \\\n",
            "0     I'm cooked, chat🌬️Ventilation💨 (self.adultery)   \n",
            "1       Thank you chat🙌✨Good Vibes✨🙌 (self.adultery)   \n",
            "3  I miss you so much - after 6 months and after ...   \n",
            "4  Tinder video selfie verification?💻Hello IT?📞 (...   \n",
            "5  AP is buying a house, mixed emotions🌬️Ventilat...   \n",
            "\n",
            "                                             content  \n",
            "0  I am reeling. It wasn't supposed to be like th...  \n",
            "1  Two years ago I met an amazing women on AM, we...  \n",
            "3  Dear You, I miss you. I miss you so much. The ...  \n",
            "4  So I decided to roll up a Tinder account to se...  \n",
            "5  I have been with my AP for more than 6 years n...  \n"
          ]
        }
      ]
    },
    {
      "cell_type": "code",
      "source": [
        "juicy_confessions_df.info()"
      ],
      "metadata": {
        "colab": {
          "base_uri": "https://localhost:8080/"
        },
        "id": "bgHe3VwvfmX6",
        "outputId": "ea596556-4ec2-4296-c081-a594ed1ea6f2"
      },
      "execution_count": 26,
      "outputs": [
        {
          "output_type": "stream",
          "name": "stdout",
          "text": [
            "<class 'pandas.core.frame.DataFrame'>\n",
            "Index: 647 entries, 0 to 877\n",
            "Data columns (total 7 columns):\n",
            " #   Column           Non-Null Count  Dtype \n",
            "---  ------           --------------  ----- \n",
            " 0   subreddit        647 non-null    object\n",
            " 1   title            647 non-null    object\n",
            " 2   content          647 non-null    object\n",
            " 3   author           583 non-null    object\n",
            " 4   url              647 non-null    object\n",
            " 5   cleaned_title    647 non-null    object\n",
            " 6   cleaned_content  647 non-null    object\n",
            "dtypes: object(7)\n",
            "memory usage: 40.4+ KB\n"
          ]
        }
      ]
    },
    {
      "cell_type": "code",
      "source": [
        "# Sort by the current index (which are the original indices from the full DataFrame)\n",
        "juicy_confessions_df = juicy_confessions_df.sort_index()\n",
        "\n",
        "# Reset the index to a new sequential index starting from 0\n",
        "juicy_confessions_df = juicy_confessions_df.reset_index(drop=True)\n",
        "\n",
        "print(\"\\nDataFrame after sorting and resetting index:\")\n",
        "print(juicy_confessions_df.info())"
      ],
      "metadata": {
        "colab": {
          "base_uri": "https://localhost:8080/"
        },
        "id": "6qsNeVUWf-kb",
        "outputId": "b3eec37c-7d50-436b-b536-0b4af7732333"
      },
      "execution_count": 28,
      "outputs": [
        {
          "output_type": "stream",
          "name": "stdout",
          "text": [
            "\n",
            "DataFrame after sorting and resetting index:\n",
            "<class 'pandas.core.frame.DataFrame'>\n",
            "RangeIndex: 647 entries, 0 to 646\n",
            "Data columns (total 7 columns):\n",
            " #   Column           Non-Null Count  Dtype \n",
            "---  ------           --------------  ----- \n",
            " 0   subreddit        647 non-null    object\n",
            " 1   title            647 non-null    object\n",
            " 2   content          647 non-null    object\n",
            " 3   author           583 non-null    object\n",
            " 4   url              647 non-null    object\n",
            " 5   cleaned_title    647 non-null    object\n",
            " 6   cleaned_content  647 non-null    object\n",
            "dtypes: object(7)\n",
            "memory usage: 35.5+ KB\n",
            "None\n"
          ]
        }
      ]
    },
    {
      "cell_type": "code",
      "source": [
        "# !pip install transformers"
      ],
      "metadata": {
        "id": "bazlvbVCCwsX"
      },
      "execution_count": 41,
      "outputs": []
    },
    {
      "cell_type": "markdown",
      "source": [
        "apply sentiment analyssi df_cleaned[[ 'cleaned_title'] to find juicy content\n",
        "\n",
        "### The distilbert-base-uncased-finetuned-sst-2-english model, when used for sentiment analysis, outputs a probability distribution over the possible sentiment labels (in this case, 'POSITIVE' and 'NEGATIVE').\n",
        "\n",
        "Here's how it works:\n",
        "\n",
        "Processing the Text: The model takes the input text (like a cleaned title or content) and processes it through its layers.\n",
        "Output Layer: The final layer of the model is configured for classification and outputs a value for each possible label.\n",
        "Softmax Activation: A softmax function is applied to these output values. Softmax converts the values into probabilities that sum up to 1. For binary classification, you'll get two probabilities: one for 'POSITIVE' and one for 'NEGATIVE'.\n",
        "Assigning Label and Score:\n",
        "The sentiment_label assigned to a text is the label ('POSITIVE' or 'NEGATIVE') with the higher probability.\n",
        "The sentiment_score is the probability associated with the assigned label. For example, if the model outputs a probability of 0.95 for 'NEGATIVE' and 0.05 for 'POSITIVE', the sentiment_label will be 'NEGATIVE' and the sentiment_score will be 0.95.\n",
        "So, a score closer to 1 indicates a higher confidence in the assigned sentiment label, while a score closer to 0 indicates lower confidence. For this binary model, a score around 0.5 would suggest the model is uncertain between positive and negative sentiment.\n",
        "- juicy_sentiment_mask_negative. This mask is used to identify rows in the juicy_confessions_df DataFrame that meet two conditions:\n",
        "\n",
        "juicy_confessions_df['sentiment_label'] == 'NEGATIVE': This part checks if the value in the 'sentiment_label' column for each row is equal to the string 'NEGATIVE'.\n",
        "juicy_confessions_df['sentiment_score'] > sentiment_threshold: This part checks if the value in the 'sentiment_score' column for each row is greater than the value stored in the sentiment_threshold variable.\n",
        "The & symbol between the two conditions means that both conditions must be True for a row to be considered True in the juicy_sentiment_mask_negative. In other words, this mask will be True for rows where the sentiment analysis classified the text as 'NEGATIVE' AND the confidence score for that negative sentiment is above the specified threshold. This helps in filtering for confessions that are strongly negative."
      ],
      "metadata": {
        "id": "daiQmUfiOXUA"
      }
    },
    {
      "cell_type": "code",
      "source": [
        "from transformers import pipeline\n",
        "sentiment_analyzer = pipeline(\"sentiment-analysis\", model=\"distilbert-base-uncased-finetuned-sst-2-english\")\n",
        "\n",
        "# Apply sentiment analysis to the 'cleaned_title' column\n",
        "# The pipeline returns a list of dictionaries, each containing 'label' (POSITIVE/NEGATIVE) and 'score'\n",
        "sentiment_results = sentiment_analyzer(juicy_confessions_df['cleaned_title'].tolist())\n",
        "\n",
        "# Extract labels and scores into new columns\n",
        "juicy_confessions_df['sentiment_label'] = [res['label'] for res in sentiment_results]\n",
        "juicy_confessions_df['sentiment_score'] = [res['score'] for res in sentiment_results]\n",
        "\n",
        "# Now you can filter based on sentiment.\n",
        "# \"Juicy\" content might often have a strong negative sentiment (regret, shame, etc.)\n",
        "# or sometimes a strong positive sentiment (excitement, perhaps?).\n",
        "# This is subjective, but we can start by looking for strong sentiment scores.\n",
        "\n",
        "# Let's define a threshold for strong sentiment. For binary sentiment, a score close to 1 is strong.\n",
        "sentiment_threshold = 0.8 # Adjust this based on experimentation\n",
        "\n",
        "\"\"\"juicy_sentiment_mask_negative: This mask is a pandas Series of boolean values (True or False).\n",
        " It is created to identify rows in the DataFrame where the sentiment analysis of the cleaned text\n",
        " resulted in a 'NEGATIVE' label with a sentiment score greater than a specified sentiment_threshold.\n",
        " In essence, it flags the confessions that the model is confident are strongly negative.\n",
        "juicy_sentiment_mask_positive: Similarly, this mask is a pandas Series of boolean values.\n",
        " It identifies rows where the sentiment analysis resulted in a 'POSITIVE' label with a\n",
        "  sentiment score greater than the same sentiment_threshold. This flags the confessions\n",
        "  that the model is confident are strongly positive.\"\"\"\n",
        "\n",
        "juicy_sentiment_mask_negative = (juicy_confessions_df['sentiment_label'] == 'NEGATIVE') & (juicy_confessions_df['sentiment_score'] > sentiment_threshold)\n",
        "\n",
        "# Or filter for positive sentiment with a high score (e.g., exciting confession)\n",
        "juicy_sentiment_mask_positive = (juicy_confessions_df['sentiment_label'] == 'POSITIVE') & (juicy_confessions_df['sentiment_score'] > sentiment_threshold)\n",
        "\n"
      ],
      "metadata": {
        "colab": {
          "base_uri": "https://localhost:8080/",
          "height": 286,
          "referenced_widgets": [
            "d332d6c4a6a144ee934cd21d38491612",
            "06edda350d39409699a04fa4169eee90",
            "df9ee2f8f6de4c39898d8d73a097a317",
            "afdb259fb93442c0a5bc6d64142f24b4",
            "ac2869c71ee7456a9865605fe6d27e0b",
            "d41b5dffaa4442bf90a112539475ba1c",
            "18171b9c06d248968c1a29835b263e0b",
            "54137422adc64c7c8bf201a2eb10f418",
            "8b29b26d39214c4698cb79b5e8eba05e",
            "93f6bde751374e88871898ababa598f2",
            "bfbe2478cf43429696cc30895bd0a405",
            "04226920644042a4b9437359a99725eb",
            "673c54291cc54197ac3c3b1277c23434",
            "ae55d2d6b4f14a1aba045629726506b6",
            "a9d5ce432f464a6db20b0cd2247c5dd0",
            "ba01d4e1d703403eb36095fb5dbed035",
            "3290b063c95043adb6a2c25f460a9d9c",
            "c8fcf31873044445b9998b6d70a777c5",
            "b15eaea971b04110ae8b1e4ddb64019f",
            "7b583ca3830f4d5ea4530fd95a384314",
            "0764425f5c97487eb9d8dce1103199b3",
            "2bf84177b03e48868ca72f44beabca60",
            "11596f9a90ec4b96a2ac5909727e439b",
            "e4e7b8c0888148eaa79c01f53fbba516",
            "cd23845ebecc414ba972be71b2b4ca05",
            "b1a4e72cd2954d61b7299e6ddfc99744",
            "33dd2e63d92b4f8b95f290ac56c3d7b1",
            "edbdb926176747b8bb3bdc9f009951df",
            "d8faac041fe946d4bc4b5bfd3255fd59",
            "ab49df512f114090899a52f87b1dcbc8",
            "d8615dfe8f1b4e4e85a29117956d0be9",
            "d834101df3354028805f0a92bdb54e71",
            "074d0a3d6cfd45d4b95d6228fa8e405a",
            "2bb7462cb3954c31b1cbe399d0b2adf6",
            "5e2b013bc92a4f34800c63fab3a5e4aa",
            "1eb6cf7bebf14527b6d96fbb5728dd0a",
            "67dfe422f7cd48e5a66528ac19ce1b1e",
            "394507b2a8da472da4b0fb2808cde9e8",
            "433d4a4429ec41cfab29734dbcbd229c",
            "9db37060778b45a6b9995305be815cf7",
            "b63fc32ca3904c8284e6e3fa54c6b2e5",
            "3c4c03e132be414097aea638b08bbe39",
            "4b2f15b46b30421d89dc1d996e5dc0b2",
            "976f7a03a5ae4d818a34f7976d72a0e1"
          ]
        },
        "id": "bk7C-tniCSGC",
        "outputId": "385d8b72-066c-4ea0-d7dc-761a67527f13"
      },
      "execution_count": 30,
      "outputs": [
        {
          "output_type": "stream",
          "name": "stderr",
          "text": [
            "/usr/local/lib/python3.11/dist-packages/huggingface_hub/utils/_auth.py:94: UserWarning: \n",
            "The secret `HF_TOKEN` does not exist in your Colab secrets.\n",
            "To authenticate with the Hugging Face Hub, create a token in your settings tab (https://huggingface.co/settings/tokens), set it as secret in your Google Colab and restart your session.\n",
            "You will be able to reuse this secret in all of your notebooks.\n",
            "Please note that authentication is recommended but still optional to access public models or datasets.\n",
            "  warnings.warn(\n"
          ]
        },
        {
          "output_type": "display_data",
          "data": {
            "text/plain": [
              "config.json:   0%|          | 0.00/629 [00:00<?, ?B/s]"
            ],
            "application/vnd.jupyter.widget-view+json": {
              "version_major": 2,
              "version_minor": 0,
              "model_id": "d332d6c4a6a144ee934cd21d38491612"
            }
          },
          "metadata": {}
        },
        {
          "output_type": "display_data",
          "data": {
            "text/plain": [
              "model.safetensors:   0%|          | 0.00/268M [00:00<?, ?B/s]"
            ],
            "application/vnd.jupyter.widget-view+json": {
              "version_major": 2,
              "version_minor": 0,
              "model_id": "04226920644042a4b9437359a99725eb"
            }
          },
          "metadata": {}
        },
        {
          "output_type": "display_data",
          "data": {
            "text/plain": [
              "tokenizer_config.json:   0%|          | 0.00/48.0 [00:00<?, ?B/s]"
            ],
            "application/vnd.jupyter.widget-view+json": {
              "version_major": 2,
              "version_minor": 0,
              "model_id": "11596f9a90ec4b96a2ac5909727e439b"
            }
          },
          "metadata": {}
        },
        {
          "output_type": "display_data",
          "data": {
            "text/plain": [
              "vocab.txt:   0%|          | 0.00/232k [00:00<?, ?B/s]"
            ],
            "application/vnd.jupyter.widget-view+json": {
              "version_major": 2,
              "version_minor": 0,
              "model_id": "2bb7462cb3954c31b1cbe399d0b2adf6"
            }
          },
          "metadata": {}
        },
        {
          "output_type": "stream",
          "name": "stderr",
          "text": [
            "Device set to use cpu\n"
          ]
        }
      ]
    },
    {
      "cell_type": "markdown",
      "source": [
        "creating a new boolean mask called juicy_sentiment_mask by combining the juicy_sentiment_mask_negative and juicy_sentiment_mask_positive masks using the bitwise OR operator (|).\n",
        "\n",
        "Here's what that means:\n",
        "\n",
        "The | operator performs a logical OR operation element-wise between the two masks.\n",
        "The resulting juicy_sentiment_mask will have a True value for a row if either juicy_sentiment_mask_negative is True for that row or juicy_sentiment_mask_positive is True for that row (or both)."
      ],
      "metadata": {
        "id": "tI9NWNmNoCYJ"
      }
    },
    {
      "cell_type": "code",
      "source": [
        "# Combine masks if you want both strongly positive and strongly negative\n",
        "juicy_sentiment_mask = juicy_sentiment_mask_negative | juicy_sentiment_mask_positive"
      ],
      "metadata": {
        "id": "VldNsU33oAHk"
      },
      "execution_count": 32,
      "outputs": []
    },
    {
      "cell_type": "code",
      "source": [
        "print(\"Count of True:\", juicy_sentiment_mask.sum())\n",
        "print(\"Count of False:\", (~juicy_sentiment_mask).sum())"
      ],
      "metadata": {
        "colab": {
          "base_uri": "https://localhost:8080/"
        },
        "id": "Ai5nUq9bq4OA",
        "outputId": "1dcf1b8a-0286-4267-c9a4-4416eb03dad4"
      },
      "execution_count": 37,
      "outputs": [
        {
          "output_type": "stream",
          "name": "stdout",
          "text": [
            "Count of True: 625\n",
            "Count of False: 22\n"
          ]
        }
      ]
    },
    {
      "cell_type": "code",
      "source": [
        "juicy_confessions_df.info()"
      ],
      "metadata": {
        "colab": {
          "base_uri": "https://localhost:8080/"
        },
        "id": "lj9-XcI6rGCa",
        "outputId": "9d01a907-79d9-43ae-ee4a-8d7e132b99f0"
      },
      "execution_count": 34,
      "outputs": [
        {
          "output_type": "stream",
          "name": "stdout",
          "text": [
            "<class 'pandas.core.frame.DataFrame'>\n",
            "RangeIndex: 647 entries, 0 to 646\n",
            "Data columns (total 9 columns):\n",
            " #   Column           Non-Null Count  Dtype  \n",
            "---  ------           --------------  -----  \n",
            " 0   subreddit        647 non-null    object \n",
            " 1   title            647 non-null    object \n",
            " 2   content          647 non-null    object \n",
            " 3   author           583 non-null    object \n",
            " 4   url              647 non-null    object \n",
            " 5   cleaned_title    647 non-null    object \n",
            " 6   cleaned_content  647 non-null    object \n",
            " 7   sentiment_label  647 non-null    object \n",
            " 8   sentiment_score  647 non-null    float64\n",
            "dtypes: float64(1), object(8)\n",
            "memory usage: 45.6+ KB\n"
          ]
        }
      ]
    },
    {
      "cell_type": "code",
      "source": [
        "# juicy_confessions_df.head(3)"
      ],
      "metadata": {
        "id": "83dKOX4KrT7P"
      },
      "execution_count": 38,
      "outputs": []
    },
    {
      "cell_type": "markdown",
      "source": [
        "juicy_confessions_df DataFrame based on the juicy_sentiment_mask and creating a new DataFrame called juicy_confessions_sentiment_df.\n",
        "\n",
        "Here's a breakdown:\n",
        "\n",
        "juicy_confessions_df[juicy_sentiment_mask]: This is using boolean indexing (also known as boolean selection) in pandas. The juicy_sentiment_mask is a Series of boolean values (True or False) with the same index as juicy_confessions_df. When you use a boolean Series to index a DataFrame, pandas returns only the rows where the boolean Series has a value of True. In this case, it selects the rows from juicy_confessions_df where the juicy_sentiment_mask is True (i.e., the rows with strong positive or negative sentiment)."
      ],
      "metadata": {
        "id": "9vvhtaHVtXnD"
      }
    },
    {
      "cell_type": "code",
      "source": [
        "# Filter the DataFrame based on sentiment mask\n",
        "juicy_confessions_sentiment_df = juicy_confessions_df[juicy_sentiment_mask].copy()\n",
        "\n",
        "print(f\"\\nFound {len(juicy_confessions_sentiment_df)} potentially juicy confessions based on sentiment.\")\n",
        "\n",
        "# Display the first few rows of the potentially juicy confessions identified by sentiment\n",
        "print(juicy_confessions_sentiment_df[['title', 'cleaned_title', 'sentiment_label', 'sentiment_score']].head())"
      ],
      "metadata": {
        "colab": {
          "base_uri": "https://localhost:8080/"
        },
        "id": "sB1Z-NuGmFIs",
        "outputId": "e48fd825-486a-40dc-8d9c-2e984fcc7147"
      },
      "execution_count": 39,
      "outputs": [
        {
          "output_type": "stream",
          "name": "stdout",
          "text": [
            "\n",
            "Found 625 potentially juicy confessions based on sentiment.\n",
            "                                               title  \\\n",
            "0     I'm cooked, chat🌬️Ventilation💨 (self.adultery)   \n",
            "1       Thank you chat🙌✨Good Vibes✨🙌 (self.adultery)   \n",
            "2  I miss you so much - after 6 months and after ...   \n",
            "3  Tinder video selfie verification?💻Hello IT?📞 (...   \n",
            "4  AP is buying a house, mixed emotions🌬️Ventilat...   \n",
            "\n",
            "                                       cleaned_title sentiment_label  \\\n",
            "0       I'm cooked, chat Ventilation (self.adultery)        NEGATIVE   \n",
            "1          Thank you chat Good Vibes (self.adultery)        POSITIVE   \n",
            "2  I miss you so much - after 6 months and after ...        NEGATIVE   \n",
            "3  Tinder video selfie verification? Hello IT? (s...        NEGATIVE   \n",
            "4  AP is buying a house, mixed emotions Ventilati...        NEGATIVE   \n",
            "\n",
            "   sentiment_score  \n",
            "0         0.988388  \n",
            "1         0.999230  \n",
            "2         0.986825  \n",
            "3         0.997121  \n",
            "4         0.989145  \n"
          ]
        }
      ]
    },
    {
      "cell_type": "code",
      "source": [
        "# Count the number of negative and positive labels\n",
        "negative_count = juicy_confessions_sentiment_df[juicy_confessions_sentiment_df['sentiment_label'] == 'NEGATIVE'].shape[0]\n",
        "positive_count = juicy_confessions_sentiment_df[juicy_confessions_sentiment_df['sentiment_label'] == 'POSITIVE'].shape[0]\n",
        "\n",
        "print(f\"\\nNumber of negative confessions (with strong sentiment): {negative_count}\")\n",
        "print(f\"Number of positive confessions (with strong sentiment): {positive_count}\")"
      ],
      "metadata": {
        "colab": {
          "base_uri": "https://localhost:8080/"
        },
        "id": "kmiebyKcdAMs",
        "outputId": "f715c4e1-710b-457a-8b10-b18931df2370"
      },
      "execution_count": 40,
      "outputs": [
        {
          "output_type": "stream",
          "name": "stdout",
          "text": [
            "\n",
            "Number of negative confessions (with strong sentiment): 562\n",
            "Number of positive confessions (with strong sentiment): 63\n"
          ]
        }
      ]
    },
    {
      "cell_type": "code",
      "source": [
        "output_path = '/content/drive/MyDrive/Colab Notebooks/juicy_confessions_sentiment.csv'\n",
        "\n",
        "# Save the DataFrame to a CSV file\n",
        "juicy_confessions_sentiment_df.to_csv(output_path, index=False, encoding='utf-8-sig')\n",
        "print(f\"\\nSuccessfully saved the juicy confessions sentiment DataFrame to: {output_path}\")"
      ],
      "metadata": {
        "colab": {
          "base_uri": "https://localhost:8080/"
        },
        "id": "-LlQtLq0wDOq",
        "outputId": "4156fbc9-bf01-4cf7-ee41-4450952c155e"
      },
      "execution_count": 42,
      "outputs": [
        {
          "output_type": "stream",
          "name": "stdout",
          "text": [
            "\n",
            "Successfully saved the juicy confessions sentiment DataFrame to: /content/drive/MyDrive/Colab Notebooks/juicy_confessions_sentiment.csv\n"
          ]
        }
      ]
    }
  ]
}